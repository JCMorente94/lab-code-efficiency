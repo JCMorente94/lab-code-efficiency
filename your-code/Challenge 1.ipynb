{
 "cells": [
  {
   "cell_type": "markdown",
   "metadata": {},
   "source": [
    "# Challenge 1\n",
    "\n",
    "This is a dumb calculator that can add and subtract whole numbers from zero to five.\n",
    "When you run the code, you are prompted to enter two numbers (in the form of English\n",
    "word instead of number) and the operator sign (also in the form of English word).\n",
    "The code will perform the calculation and give the result if your input is what it\n",
    "expects.\n",
    "\n",
    "The code is very long and messy. Refactor it according to what you have learned about\n",
    "code simplicity and efficiency."
   ]
  },
  {
   "cell_type": "code",
   "execution_count": 9,
   "metadata": {
    "ExecuteTime": {
     "end_time": "2020-02-12T18:12:10.109233Z",
     "start_time": "2020-02-12T18:12:10.093275Z"
    }
   },
   "outputs": [],
   "source": [
    "def calculator():    \n",
    "    print('Welcome to this calculator!')\n",
    "    print('It can add and subtract whole numbers from zero to five')\n",
    "    a = input('Please choose your first number (zero to five): ')\n",
    "    b = input('What do you want to do? plus or minus: ')\n",
    "    c = input('Please choose your second number (zero to five): ')\n",
    "    dit_num = {'zero': 0, 'one': 1, 'two': 2, 'three': 3, 'four': 4, 'five': 5}\n",
    "    dit_solutions = {0: 'zero', 1: 'one', 2: 'two', 3: 'three', 4: 'four', 5: 'five',\n",
    "                    6: 'six', 7: 'seven', 8: 'eight', 9: 'nine', 10: 'ten'}\n",
    "    if a in dit_num and c in dit_num and b in ('plus', 'minus'):\n",
    "        if b == 'plus':\n",
    "            print(f\"{a} {b} {c} equals {dit_solutions[dit_num[a] + dit_num[c]]}\")\n",
    "        else:\n",
    "            if dit_num[a] - dit_num[c] < 0:\n",
    "                print(f\"{a} {b} {c} equals negative {dit_solutions[abs(dit_num[a] - dit_num[c])]}\")\n",
    "            else:\n",
    "                print(f\"{a} {b} {c} equals {dit_solutions[dit_num[a] - dit_num[c]]}\")\n",
    "    else:\n",
    "        print(\"I am not able to answer this question. Check your input.\")\n",
    "    print(\"Thanks for using this calculator, goodbye :)\")"
   ]
  },
  {
   "cell_type": "code",
   "execution_count": 11,
   "metadata": {
    "ExecuteTime": {
     "end_time": "2020-02-12T18:12:53.127422Z",
     "start_time": "2020-02-12T18:12:34.653503Z"
    }
   },
   "outputs": [
    {
     "name": "stdout",
     "output_type": "stream",
     "text": [
      "Welcome to this calculator!\n",
      "It can add and subtract whole numbers from zero to five\n",
      "Please choose your first number (zero to five): zero\n",
      "What do you want to do? plus or minus: minus\n",
      "Please choose your second number (zero to five): five\n",
      "zero minus five equals negative five\n",
      "Thanks for using this calculator, goodbye :)\n"
     ]
    }
   ],
   "source": [
    "calculator()"
   ]
  },
  {
   "cell_type": "code",
   "execution_count": null,
   "metadata": {},
   "outputs": [],
   "source": []
  }
 ],
 "metadata": {
  "kernelspec": {
   "display_name": "Python 3",
   "language": "python",
   "name": "python3"
  },
  "language_info": {
   "codemirror_mode": {
    "name": "ipython",
    "version": 3
   },
   "file_extension": ".py",
   "mimetype": "text/x-python",
   "name": "python",
   "nbconvert_exporter": "python",
   "pygments_lexer": "ipython3",
   "version": "3.7.4"
  },
  "varInspector": {
   "cols": {
    "lenName": 16,
    "lenType": 16,
    "lenVar": 40
   },
   "kernels_config": {
    "python": {
     "delete_cmd_postfix": "",
     "delete_cmd_prefix": "del ",
     "library": "var_list.py",
     "varRefreshCmd": "print(var_dic_list())"
    },
    "r": {
     "delete_cmd_postfix": ") ",
     "delete_cmd_prefix": "rm(",
     "library": "var_list.r",
     "varRefreshCmd": "cat(var_dic_list()) "
    }
   },
   "types_to_exclude": [
    "module",
    "function",
    "builtin_function_or_method",
    "instance",
    "_Feature"
   ],
   "window_display": false
  }
 },
 "nbformat": 4,
 "nbformat_minor": 2
}
